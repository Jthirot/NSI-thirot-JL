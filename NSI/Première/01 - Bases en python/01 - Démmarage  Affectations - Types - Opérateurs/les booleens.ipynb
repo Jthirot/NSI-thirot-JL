{
  "nbformat": 4,
  "nbformat_minor": 0,
  "metadata": {
    "colab": {
      "name": "1NSI_booleen.ipynb",
      "provenance": [],
      "collapsed_sections": []
    },
    "kernelspec": {
      "display_name": "Python 3",
      "language": "python",
      "name": "python3"
    },
    "language_info": {
      "codemirror_mode": {
        "name": "ipython",
        "version": 3
      },
      "file_extension": ".py",
      "mimetype": "text/x-python",
      "name": "python",
      "nbconvert_exporter": "python",
      "pygments_lexer": "ipython3",
      "version": "3.4.5"
    }
  },
  "cells": [
    {
      "cell_type": "markdown",
      "metadata": {
        "id": "lf01GeAfGzvZ"
      },
      "source": [
        "# Booléens\n",
        "\n",
        "## Définition :\n",
        "Un booléen est un type de variable à 2 états : *vrai* et *faux*\n",
        "<br>\n",
        "Ils sont représentés respectivement par *1* et *0*\n",
        "\n",
        "En Python, on peut déclarer un booléen directement par sa valeur : *True* (pour vrai) et *False* (pour faux)\n"
      ]
    },
    {
      "cell_type": "markdown",
      "metadata": {
        "id": "AmUBaqEgDk9P"
      },
      "source": [
        "&nbsp;<br>\n",
        "<b><font size=\"12\">Opérateurs de comparaison</font></b>\n",
        "\n",
        "Un booléen peut également être le résultat d'un test (*vrai* ou *faux*)\n",
        "\n",
        "Exécutez le code suivant :\n"
      ]
    },
    {
      "cell_type": "markdown",
      "metadata": {
        "id": "sJZiCOwrD-Re"
      },
      "source": [
        "Le résultat affiché est True car le contenu de la variable a est effectivement supérieur à la valeur 3 (a vaut 20).\n",
        "\n",
        "Voici les différents opérateurs de comparaison qu'il faut connaitre en Python :\n",
        "\n",
        "<font size=\"6\">liste des opérateurs de comparaison</font>\n",
        "\n",
        "|symbole|nom|exemple (nombres)|exmple (str)|\n",
        "|:-:|:-:|:-:|-:|\n",
        "|<|strictement inférieur|2 < 3 : True|\"Paul\"< \"Pierre\" : True|\n",
        "|>|strictement supérieur|2 > 3 : False|\"Albert\" > \"albert\" : False|\n",
        "|<=|inférieur ou égal|3 <= 3 : True|\"Jacques\" <= \"jacques\" : True |\n",
        "|>=|supérieur ou égal|3 >= 3 : True|\"plus\" >= \"plus\" : True|\n",
        "|==|égal|1 == 1.0 : False|\"mot\" == \"mot\" : True|\n",
        "|is|identique|1 is 1.0 : False|\"a\" is \"A\" : False|\n",
        "|!=|différent|\"a\" != \"b\" : True|\"A\" != \"a\" : True|\n",
        "|<>|différent|\"a\" <> \"b\" : True|\"A\" <> \"a\" : True|\n",
        "\n",
        "Les comparaisons de nombres sont intuitives et ne nécessitent pas d'être détaillées.\n",
        "\n",
        "Notez bien que certains opérateurs s'écrivent avec 2 caractères.\n",
        "\n",
        "🤗 ❗❗ Notament, lorsqu'on va tester une égalité, il faut bien faire attention à mettre deux signes  ''='' à la suite.❗❗\n",
        "\n"
      ]
    },
    {
      "cell_type": "markdown",
      "metadata": {
        "id": "k13Fe2GxrrGK"
      },
      "source": [
        "# Ne pas confondre affection et Test d'égalité\n",
        "\n",
        "![image.png](data:image/png;base64,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)"
      ]
    },
    {
      "cell_type": "markdown",
      "source": [
        "# Conversion booléens <-> entiers"
      ],
      "metadata": {
        "id": "Zr9yeIcovlb4"
      }
    },
    {
      "cell_type": "code",
      "source": [
        "print(\"convertir True ou False en entiers :\")\n",
        "print(\"True en int :\",int(True))\n",
        "print(\"False en int :\",int(False))\n",
        "print(\"-----------------\")\n",
        "print(\"et donc inversement :\")\n",
        "print(\"0 en bool :\",bool(0))\n",
        "print(\"1 en bool :\",bool(1))\n",
        "print(\"-----------------\")\n",
        "print(\"Mais attention, tout ce qui n'est pas 0 est convertie en True :\")\n",
        "print(\"2 en bool :\",bool(2))\n",
        "print(\"\\\"a\\\" en bool :\",bool(\"a\"))\n",
        "\n",
        "print(\"-----------------\")\n",
        "print(\"for logiquement on a les égalité suivantes :\")\n",
        "print(\"0 == True\",0 == True)\n",
        "print(\"0 == False\",0 == False)\n",
        "print(\"-----------------\")\n",
        "print(\"1 == True\",1 == True)\n",
        "print(\"1 == False\",1 == False)\n",
        "\n",
        "print(\"-----------------\")\n",
        "print(\"Mais...\")\n",
        "print(\"2 == True\",2 == True)\n",
        "print(\"2 == False\",2 == False)\n",
        "print(\"\\\"a\\\" == True\",\"a\" == True)\n",
        "print(\"\\\"a\\\" == False\",\"a\" == False)"
      ],
      "metadata": {
        "colab": {
          "base_uri": "https://localhost:8080/"
        },
        "id": "klRJtwGUt4Ym",
        "outputId": "1dafaaf0-7d05-405a-fdc3-6686ad12ee76"
      },
      "execution_count": 18,
      "outputs": [
        {
          "output_type": "stream",
          "name": "stdout",
          "text": [
            "convertir True ou False en entiers :\n",
            "True en int : 1\n",
            "False en int : 0\n",
            "-----------------\n",
            "et donc inversement :\n",
            "0 en bool : False\n",
            "1 en bool : True\n",
            "-----------------\n",
            "Mais attention, tout ce qui n'est pas 0 est convertie en True :\n",
            "2 en bool : True\n",
            "\"a\" en bool : True\n",
            "-----------------\n",
            "for logiquement on a les égalité suivantes :\n",
            "0 == True False\n",
            "0 == False True\n",
            "-----------------\n",
            "1 == True True\n",
            "1 == False False\n",
            "-----------------\n",
            "Mais...\n",
            "2 == True False\n",
            "2 == False False\n",
            "\"a\" == True False\n",
            "\"a\" == False False\n"
          ]
        }
      ]
    },
    {
      "cell_type": "markdown",
      "metadata": {
        "id": "pEGgzCKaNTom"
      },
      "source": [
        "&nbsp;<br>\n",
        "<b><font size=\"12\">Opérateurs booléens</font></b>"
      ]
    },
    {
      "cell_type": "markdown",
      "metadata": {
        "id": "sVnmpPcEIeKy"
      },
      "source": [
        "Un expression booléenne peut être composée de booléens, d'opérateurs de comparaison, et d'opérateurs booléens.\n",
        "\n",
        "il existe 3 types d'opérateurs booléens : <font color='#C12283'>**AND (ET), OR (OU) et NOT(NON)**.</font>\n",
        "\n",
        "# <font color='#C12283'> AND : </font>\n",
        "\n",
        "Nous allons commencer par nous intéresser à l'opérateur AND. <br>\n",
        "<i><b>(a AND b) est vrai</i></b> si et seulement si <i><b>a est vrai <font color='#C12283'>ET</font> b est vrai.</i></b>\n",
        "\n"
      ]
    },
    {
      "cell_type": "code",
      "metadata": {
        "id": "cUge7B4TKt6-",
        "colab": {
          "base_uri": "https://localhost:8080/"
        },
        "outputId": "08334ba2-b960-4e39-eabc-18074fbe86a2"
      },
      "source": [
        "# Opérateur booléen AND\n",
        "a = True\n",
        "b = False\n",
        "\n",
        "print('True and True :',a and a)\n",
        "print('True and False :',a and b)\n",
        "print('False and True :',b and a)\n",
        "print('False and False :',b and b)"
      ],
      "execution_count": null,
      "outputs": [
        {
          "output_type": "stream",
          "name": "stdout",
          "text": [
            "True and True : True\n",
            "True and False : False\n",
            "False and True : False\n",
            "False and False : False\n"
          ]
        }
      ]
    },
    {
      "cell_type": "markdown",
      "metadata": {
        "id": "dAxZIsCJK6Wi"
      },
      "source": [
        "Exécutez le code ci-dessus puis construire la table de vérité suivante : \n",
        "\n",
        "<b>Table de loi de AND</b>\n",
        "\n",
        "(double clic sur le tableau pour l'éditer)\n"
      ]
    },
    {
      "cell_type": "markdown",
      "metadata": {
        "id": "rlMcm7V5LzlI"
      },
      "source": [
        "Remplacer les ------ par True ou False selon le résultat"
      ]
    },
    {
      "cell_type": "markdown",
      "metadata": {
        "id": "4BY6gT8v8X7J"
      },
      "source": [
        "|a                    | b               |  a and b  |\n",
        "| :--:                | :--:            |  :--:     |\n",
        "| **False**           |     **False**   |     **False**      |  \n",
        "| **False**           |     **True**    |    **False**       |  \n",
        "| **True**            |     **False**   |     **False**    |  \n",
        "| **True**            |     **True**    |      **True**     |  "
      ]
    },
    {
      "cell_type": "markdown",
      "metadata": {
        "id": "Xf9FRk_C9B0i"
      },
      "source": [
        "# <font color='#C12283'>OR</font>"
      ]
    },
    {
      "cell_type": "code",
      "metadata": {
        "id": "UXkp-pCF3Q7U"
      },
      "source": [
        "# Opérateur booléen OR\n",
        "a = False\n",
        "b = True\n",
        "\n",
        "print(a or a)\n",
        "print(a or b)\n",
        "print(b or a)\n",
        "print(b or b)\n"
      ],
      "execution_count": null,
      "outputs": []
    },
    {
      "cell_type": "markdown",
      "metadata": {
        "id": "wg8gP2Ki59Ut"
      },
      "source": [
        "Exécutez le code ci-dessus puis remplir le tableau ci-dessous (double cliquez la cellule pour éditer le tableau)\n",
        "\n",
        "<b>Table de loi de OR :</b>"
      ]
    },
    {
      "cell_type": "markdown",
      "metadata": {
        "id": "nX5OsmgG9Ikc"
      },
      "source": [
        "|a                    | b               |  a or b  |\n",
        "| :--:                | :--:            |  :--:     |\n",
        "| **False**           |     **False**   |      **False**     |  \n",
        "| **False**           |     **True**    |    **True**      |  \n",
        "| **True**            |     **False**   |       **True**    |  \n",
        "| **True**            |     **True**    |       **True**     |  "
      ]
    },
    {
      "cell_type": "markdown",
      "metadata": {
        "id": "9qxn35X86UAN"
      },
      "source": [
        "#<font color='#C12283'>NOT</font>"
      ]
    },
    {
      "cell_type": "code",
      "metadata": {
        "id": "WUou5O4G6TDW"
      },
      "source": [
        "# Opérateur booléen NOT\n",
        "a = False\n",
        "b = True\n",
        "\n",
        "print(not a)\n",
        "print(not b)\n"
      ],
      "execution_count": null,
      "outputs": []
    },
    {
      "cell_type": "markdown",
      "metadata": {
        "id": "NcKgedRw-i3O"
      },
      "source": [
        ""
      ]
    },
    {
      "cell_type": "markdown",
      "metadata": {
        "id": "QuJl9eV6-JGk"
      },
      "source": [
        "<b>Table de loi de NOT"
      ]
    },
    {
      "cell_type": "markdown",
      "metadata": {
        "id": "ZRBdp_4o9UWi"
      },
      "source": [
        "|a   | not a   |\n",
        "| :--:                | :--:   |\n",
        "| **False**           |     **True**     |        \n",
        "| **True**            |     **False**     |        "
      ]
    },
    {
      "cell_type": "markdown",
      "metadata": {
        "id": "DfZIjSlsY5y1"
      },
      "source": [
        "&nbsp;<br>\n",
        "<b><font size=\"12\">Caractère séquentiels de certains opérateurs</font></b>\n",
        "\n",
        "\n",
        "Les opérateurs <font color='#C12283'>ET</font> et <font color='#C12283'>OU</font> ont la particularité d'être séquentiels, c'est-à-dire de donner lieu à une <font color='#C12283'>**évaluation de gauche à droite**.</font>\n",
        "> A ET B est vrai ssi A et B sont vrais tous les 2 : <b>Dans la pratique B n'est pas évalué si A est faux</b>.<br>\n",
        ">  A OU B est faux ssi A et B sont faux tous les deux : **Dans la pratique B n'est pas évalué si A est vrai.**\n",
        "\n",
        "\n",
        "\n"
      ]
    },
    {
      "cell_type": "markdown",
      "metadata": {
        "id": "Up8H6K2WuC-K"
      },
      "source": [
        "## 💻 Pouvez vous utiliser cette propriété pour rectifier le code ci-dessous :"
      ]
    },
    {
      "cell_type": "code",
      "metadata": {
        "collapsed": true,
        "id": "yNQCd7JWMP2y",
        "colab": {
          "base_uri": "https://localhost:8080/"
        },
        "outputId": "4f57a5f8-906f-4d16-d083-4b6fbe2d2e27"
      },
      "source": [
        "# application du caractère séquentiel :\n",
        "\n",
        "# dans le code ci-dessous on veux savoir si l'inverse d'un nombre appartiant à un intervalle.\n",
        "# or, pour calculer l'inverse, il faut que ce nombre soit non nul, sinon 1/x n'existe pas.\n",
        "\n",
        "# on a programmé la fonction, mais ......\n",
        "\n",
        "def inverse_dans_I(x,intervalle) :\n",
        "    \"\"\"\n",
        "    x : float : un nombre flottant\n",
        "    a et b : 2 entiers naturels non nuls\n",
        "    La fonction renvoie True si 1/x appartient à [a,b]\n",
        "    \"\"\"\n",
        "    a = intervalle[0]\n",
        "    b = intervalle[1]\n",
        "    if x != 0 and a < 1/x < b  :\n",
        "        return True\n",
        "    return False\n",
        "\n",
        "inverse_dans_I( 0 , (2, 3) )"
      ],
      "execution_count": null,
      "outputs": [
        {
          "output_type": "execute_result",
          "data": {
            "text/plain": [
              "False"
            ]
          },
          "metadata": {},
          "execution_count": 4
        }
      ]
    },
    {
      "cell_type": "code",
      "source": [
        "lst=[]\n",
        "lst[0] >0 and len(lst) > 0 "
      ],
      "metadata": {
        "colab": {
          "base_uri": "https://localhost:8080/",
          "height": 190
        },
        "id": "WvVNSF2CKnLn",
        "outputId": "a7590fa4-17aa-45b2-f0ac-8a0494d76991"
      },
      "execution_count": null,
      "outputs": [
        {
          "output_type": "error",
          "ename": "IndexError",
          "evalue": "ignored",
          "traceback": [
            "\u001b[0;31m---------------------------------------------------------------------------\u001b[0m",
            "\u001b[0;31mIndexError\u001b[0m                                Traceback (most recent call last)",
            "\u001b[0;32m<ipython-input-12-5f657690dd6f>\u001b[0m in \u001b[0;36m<module>\u001b[0;34m()\u001b[0m\n\u001b[1;32m      1\u001b[0m \u001b[0mlst\u001b[0m\u001b[0;34m=\u001b[0m\u001b[0;34m[\u001b[0m\u001b[0;34m]\u001b[0m\u001b[0;34m\u001b[0m\u001b[0;34m\u001b[0m\u001b[0m\n\u001b[0;32m----> 2\u001b[0;31m \u001b[0mlst\u001b[0m\u001b[0;34m[\u001b[0m\u001b[0;36m0\u001b[0m\u001b[0;34m]\u001b[0m \u001b[0;34m>\u001b[0m\u001b[0;36m0\u001b[0m \u001b[0;32mand\u001b[0m \u001b[0mlen\u001b[0m\u001b[0;34m(\u001b[0m\u001b[0mlst\u001b[0m\u001b[0;34m)\u001b[0m \u001b[0;34m>\u001b[0m \u001b[0;36m0\u001b[0m\u001b[0;34m\u001b[0m\u001b[0;34m\u001b[0m\u001b[0m\n\u001b[0m",
            "\u001b[0;31mIndexError\u001b[0m: list index out of range"
          ]
        }
      ]
    },
    {
      "cell_type": "markdown",
      "metadata": {
        "id": "YRtdiBW0MJvQ"
      },
      "source": [
        "# <font color='#C12283'>XOR</font>\n",
        "\n",
        "Pour information, il existe un dernier opérateur booléen, appelé XOR (OU Exclusif)\n",
        "\n",
        "Il retourne <font color='#348017'>*vrai*  quand seulement l'un des deux booléns est vrai</font>, et faux sinon.\n",
        "Compléter sa table de vérité :\n"
      ]
    },
    {
      "cell_type": "markdown",
      "metadata": {
        "id": "KQb4AKIe_23q"
      },
      "source": [
        "|a                    | b               |  a xor b  |\n",
        "| :--:                | :--:            |  :--:     |\n",
        "| **False**           |     **False**   |           |  \n",
        "| **False**           |     **True**    |           |  \n",
        "| **True**            |     **False**   |           |  \n",
        "| **True**            |     **True**    |           |  "
      ]
    },
    {
      "cell_type": "markdown",
      "metadata": {
        "id": "PMYr2pHK_77f"
      },
      "source": [
        "❗Petit problème en Python :"
      ]
    },
    {
      "cell_type": "code",
      "metadata": {
        "id": "MIOX6saBeVyU",
        "colab": {
          "base_uri": "https://localhost:8080/",
          "height": 135
        },
        "outputId": "346fd953-22dc-41fe-fdb4-379611bd2e8d"
      },
      "source": [
        "a = True\n",
        "b = False\n",
        "print(a xor b)"
      ],
      "execution_count": null,
      "outputs": [
        {
          "output_type": "error",
          "ename": "SyntaxError",
          "evalue": "ignored",
          "traceback": [
            "\u001b[0;36m  File \u001b[0;32m\"<ipython-input-13-c4b65c37ee6b>\"\u001b[0;36m, line \u001b[0;32m3\u001b[0m\n\u001b[0;31m    print(a xor b)\u001b[0m\n\u001b[0m              ^\u001b[0m\n\u001b[0;31mSyntaxError\u001b[0m\u001b[0;31m:\u001b[0m invalid syntax\n"
          ]
        }
      ]
    },
    {
      "cell_type": "markdown",
      "metadata": {
        "id": "peBuQRbEeprF"
      },
      "source": [
        "En fait, il n'existe pas d'opérateur logique pour XOR en Python. il faut donc définir une fonction qui prend en paramètres deux variables *a* et *b*, puis qui renvoie en résultat *a XOR b*\n",
        "Complétez la fonction ci-dessous en utilisant sa table de vérité, puis testez la."
      ]
    },
    {
      "cell_type": "code",
      "metadata": {
        "id": "cqKKmQVzfASI"
      },
      "source": [
        "# fonction XOR\n",
        "def xor(a,b):\n",
        "    return (a and not b) or (b and not a)\n",
        "    return (a or b) and not (a and b)\n",
        "\n",
        "\n",
        "\n",
        "assert xor(False,False)==False\n",
        "assert xor(True,False)==True\n",
        "assert xor(False,True)==True\n",
        "assert xor(True,True)==False"
      ],
      "execution_count": null,
      "outputs": []
    },
    {
      "cell_type": "markdown",
      "metadata": {
        "id": "60SUmDQZQh_v"
      },
      "source": [
        "<hr>Valérie Mousseaux d'après François Hallé & Jean-Louis Thirot  <br>\n",
        "Publié sous license CC by NC SA<hr>\n",
        "\n",
        "![cc_nc_sa.jpg](data:image/jpeg;base64,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)"
      ]
    }
  ]
}