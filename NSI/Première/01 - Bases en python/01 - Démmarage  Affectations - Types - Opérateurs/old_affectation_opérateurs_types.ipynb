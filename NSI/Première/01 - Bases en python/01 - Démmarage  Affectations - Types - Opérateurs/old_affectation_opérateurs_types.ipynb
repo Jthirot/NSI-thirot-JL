{
  "nbformat": 4,
  "nbformat_minor": 0,
  "metadata": {
    "kernelspec": {
      "display_name": "Python 3",
      "language": "python",
      "name": "python3"
    },
    "language_info": {
      "codemirror_mode": {
        "name": "ipython",
        "version": 3
      },
      "file_extension": ".py",
      "mimetype": "text/x-python",
      "name": "python",
      "nbconvert_exporter": "python",
      "pygments_lexer": "ipython3",
      "version": "3.7.3"
    },
    "colab": {
      "name": "affectation opérateurs types.ipynb",
      "provenance": []
    }
  },
  "cells": [
    {
      "cell_type": "markdown",
      "metadata": {
        "id": "3Sa9gJBWm0cc"
      },
      "source": [
        "<div>\n",
        "<h2>Calculs, op&eacute;rations</h2>\n",
        "<p>Dans le tableau ci-apr&egrave;s, sont pr&eacute;sent&eacute;s les symboles utilis&eacute;s pour les op&eacute;rations de base.</p>\n",
        "<blockquote>\n",
        "<div>\n",
        "<table border=\"1\"><colgroup><col width=\"52%\" /><col width=\"15%\" /><col width=\"33%\" /></colgroup>\n",
        "<thead>\n",
        "<tr>\n",
        "<th>Op&eacute;rations</th>\n",
        "<th>Symboles</th>\n",
        "<th>Exemples</th>\n",
        "</tr>\n",
        "</thead>\n",
        "<tbody>\n",
        "<tr>\n",
        "<td>addition</td>\n",
        "<td><cite>+</cite></td>\n",
        "<td>2 + 5 donne 7</td>\n",
        "</tr>\n",
        "<tr>\n",
        "<td>soustraction</td>\n",
        "<td><cite>-</cite></td>\n",
        "<td>8 - 2 donne 6</td>\n",
        "</tr>\n",
        "<tr>\n",
        "<td>multiplication</td>\n",
        "<td><cite>*</cite></td>\n",
        "<td><cite>6 * 7</cite> donne 42</td>\n",
        "</tr>\n",
        "<tr>\n",
        "<td>exponentiation (puissance)</td>\n",
        "<td><cite>**</cite></td>\n",
        "<td><cite>5 ** 3</cite> donne 125</td>\n",
        "</tr>\n",
        "<tr>\n",
        "<td>division</td>\n",
        "<td>/</td>\n",
        "<td>7 / 2 donne 3.5</td>\n",
        "</tr>\n",
        "<tr>\n",
        "<td>reste de division enti&egrave;re</td>\n",
        "<td>%</td>\n",
        "<td>7 % 3 donne 1</td>\n",
        "</tr>\n",
        "<tr>\n",
        "<td>quotient de division enti&egrave;re</td>\n",
        "<td>//</td>\n",
        "<td>7 // 3 donne 2</td>\n",
        "</tr>\n",
        "</tbody>\n",
        "</table>\n",
        "</div>"
      ]
    },
    {
      "cell_type": "markdown",
      "metadata": {
        "id": "JRDkzmCsm0cl"
      },
      "source": [
        "<h2>I Affectations et &eacute;galit&eacute;</h2>\n",
        "<p>Une affectation se fait en utilisant le signe <code>=</code>.</p>\n",
        "<p> Tester si une &eacute;galit&eacute; est vraie ou fausse se fait en utilisant <code>==</code>. Regardons l&rsquo;exemple suivant.</p>"
      ]
    },
    {
      "cell_type": "code",
      "metadata": {
        "id": "8YJwW48tm0cp",
        "colab": {
          "base_uri": "https://localhost:8080/",
          "height": 36
        },
        "outputId": "aa89bed4-fbb0-4be7-d868-3788a62f0254"
      },
      "source": [
        "# Affectations :\n",
        "a=13\n",
        "print(a)"
      ],
      "execution_count": null,
      "outputs": [
        {
          "output_type": "stream",
          "text": [
            "13\n"
          ],
          "name": "stdout"
        }
      ]
    },
    {
      "cell_type": "code",
      "metadata": {
        "id": "UtoWsMXnm0c7",
        "colab": {
          "base_uri": "https://localhost:8080/",
          "height": 36
        },
        "outputId": "573861e0-9203-4f72-ceb3-68d38904f7d5"
      },
      "source": [
        "# test égalité, variable booléenne :\n",
        "# Exécutez et observer l'instruction ci-dessous\n",
        "print(a==13)"
      ],
      "execution_count": null,
      "outputs": [
        {
          "output_type": "stream",
          "text": [
            "True\n"
          ],
          "name": "stdout"
        }
      ]
    },
    {
      "cell_type": "code",
      "metadata": {
        "id": "qKFHv9J79iJf",
        "colab": {
          "base_uri": "https://localhost:8080/",
          "height": 36
        },
        "outputId": "04bba438-ec4e-413d-fadf-5405743badec"
      },
      "source": [
        "print(\"a==13\")"
      ],
      "execution_count": null,
      "outputs": [
        {
          "output_type": "stream",
          "text": [
            "a==13\n"
          ],
          "name": "stdout"
        }
      ]
    },
    {
      "cell_type": "code",
      "metadata": {
        "id": "itcZxoaIm0dM",
        "colab": {
          "base_uri": "https://localhost:8080/",
          "height": 36
        },
        "outputId": "032e9317-883f-4deb-c328-926377c76005"
      },
      "source": [
        "print(a<10)"
      ],
      "execution_count": null,
      "outputs": [
        {
          "output_type": "stream",
          "text": [
            "False\n"
          ],
          "name": "stdout"
        }
      ]
    },
    {
      "cell_type": "code",
      "metadata": {
        "id": "5jdB5yQ1-XSO",
        "colab": {
          "base_uri": "https://localhost:8080/",
          "height": 36
        },
        "outputId": "485da1d8-b23b-40dc-df35-00f48ed826f0"
      },
      "source": [
        "a+=3\n",
        "# idem a=a+3\n",
        "print(a)"
      ],
      "execution_count": null,
      "outputs": [
        {
          "output_type": "stream",
          "text": [
            "25\n"
          ],
          "name": "stdout"
        }
      ]
    },
    {
      "cell_type": "markdown",
      "metadata": {
        "id": "GfTMVgY7m0dW"
      },
      "source": [
        "Il faut bien faire attention à ne pas confondre l’égalité mathématique C = C + 1 qui est toujours fausse (ou l’équation d’inconnue C qui n’a pas de solution) avec la nouvelle affectation de la variable C à l’aide de l’ancienne valeur. Ce que l’on peut schématiser ainsi :\n",
        "<p><font size=\"6\"><center>\n",
        "c<sub>nouveau</sub>=c<sub>ancien</sub>+1\n",
        "    </center> </font>  </p>"
      ]
    },
    {
      "cell_type": "markdown",
      "metadata": {
        "id": "MtOMJm9Tm0dZ"
      },
      "source": [
        "## division euclidienne :\n"
      ]
    },
    {
      "cell_type": "code",
      "metadata": {
        "id": "LWB7nPW2m0dc",
        "colab": {
          "base_uri": "https://localhost:8080/",
          "height": 36
        },
        "outputId": "f1d1449c-8fcb-4362-a219-606a0b7e51f2"
      },
      "source": [
        "# 5 divisé par 3 = 1 il reste 2.\n",
        "# ce qui nous donne :\n",
        "a=5\n",
        "b=3\n",
        "a%b"
      ],
      "execution_count": null,
      "outputs": [
        {
          "output_type": "execute_result",
          "data": {
            "text/plain": [
              "2"
            ]
          },
          "metadata": {
            "tags": []
          },
          "execution_count": 9
        }
      ]
    },
    {
      "cell_type": "code",
      "metadata": {
        "id": "6eLrKrFrm0dq",
        "colab": {
          "base_uri": "https://localhost:8080/",
          "height": 36
        },
        "outputId": "ffcd1997-e589-440c-ed27-d336114923bc"
      },
      "source": [
        "a//b"
      ],
      "execution_count": null,
      "outputs": [
        {
          "output_type": "execute_result",
          "data": {
            "text/plain": [
              "1"
            ]
          },
          "metadata": {
            "tags": []
          },
          "execution_count": 10
        }
      ]
    },
    {
      "cell_type": "code",
      "metadata": {
        "id": "KhUP8MiE_vAT",
        "colab": {
          "base_uri": "https://localhost:8080/",
          "height": 36
        },
        "outputId": "fae63e94-8226-40ca-cf11-2d9304b7cf6c"
      },
      "source": [
        "# ecrire un code qui dit si n et pair ou impair\n",
        "n=0\n",
        "if n%2 == 0 :\n",
        "  print(\"n est pair\")\n",
        "else:\n",
        "  print(\"n est impair\")"
      ],
      "execution_count": null,
      "outputs": [
        {
          "output_type": "stream",
          "text": [
            "n est pair\n"
          ],
          "name": "stdout"
        }
      ]
    },
    {
      "cell_type": "code",
      "metadata": {
        "id": "TPWE7Rsum0eB"
      },
      "source": [
        "# évalue mentalement le résultat, puis excute pour vérifier\n",
        "# puis fait de même en changeant les valeurs de a et b\n",
        "a=12\n",
        "b=5\n",
        "print(\"a%b =\",a%b,'   a//b =',a//b)"
      ],
      "execution_count": null,
      "outputs": []
    },
    {
      "cell_type": "code",
      "metadata": {
        "id": "gR0tJHTPm0eS",
        "colab": {
          "base_uri": "https://localhost:8080/",
          "height": 36
        },
        "outputId": "ecd71458-b7c2-41df-8444-6dad67111a16"
      },
      "source": [
        "# puissance et racines carrées\n",
        "a=3\n",
        "print(a**2, a**3)"
      ],
      "execution_count": null,
      "outputs": [
        {
          "output_type": "stream",
          "text": [
            "9 27\n"
          ],
          "name": "stdout"
        }
      ]
    },
    {
      "cell_type": "markdown",
      "metadata": {
        "id": "xs_3cc-zm0eh"
      },
      "source": [
        "Python permet les affectations multiples:"
      ]
    },
    {
      "cell_type": "code",
      "metadata": {
        "id": "b9-Ebug7m0el",
        "colab": {
          "base_uri": "https://localhost:8080/",
          "height": 36
        },
        "outputId": "14667ae1-aba1-407e-cf17-58c6b99cc22f"
      },
      "source": [
        "# racine carré est aussi égal a x**(1/2)\n",
        "a=25\n",
        "print(a**(1/2))"
      ],
      "execution_count": null,
      "outputs": [
        {
          "output_type": "stream",
          "text": [
            "5.0\n"
          ],
          "name": "stdout"
        }
      ]
    },
    {
      "cell_type": "code",
      "metadata": {
        "id": "_gaPq1f_m0ev",
        "colab": {
          "base_uri": "https://localhost:8080/",
          "height": 36
        },
        "outputId": "3cdeeff9-dea7-49ee-e649-88ba62691e6f"
      },
      "source": [
        "# il existe bien sur une fonction racine carré, mais il faut charger la librairie math\n",
        "from math import *\n",
        "print(sqrt(a))"
      ],
      "execution_count": null,
      "outputs": [
        {
          "output_type": "stream",
          "text": [
            "5.0\n"
          ],
          "name": "stdout"
        }
      ]
    },
    {
      "cell_type": "code",
      "metadata": {
        "id": "2GV3kx3Qm0e7",
        "colab": {
          "base_uri": "https://localhost:8080/",
          "height": 54
        },
        "outputId": "9e670176-38fa-4709-9294-605c4f4e5361"
      },
      "source": [
        "a,r=20,1\n",
        "print(\"a=\",a)\n",
        "print(\"r=\",r)"
      ],
      "execution_count": null,
      "outputs": [
        {
          "output_type": "stream",
          "text": [
            "a= 20\n",
            "r= 1\n"
          ],
          "name": "stdout"
        }
      ]
    },
    {
      "cell_type": "markdown",
      "metadata": {
        "id": "-rgLSqjLm0fE"
      },
      "source": [
        "<h2>II Chaînes de caractères</h2>\n",
        "Pour afficher une chaîne de caractères, il faut utiliser la commande print."
      ]
    },
    {
      "cell_type": "code",
      "metadata": {
        "id": "igbfaCvmm0fH",
        "colab": {
          "base_uri": "https://localhost:8080/",
          "height": 36
        },
        "outputId": "e734e33b-a613-4d2c-f1b0-72d617c8856e"
      },
      "source": [
        "abc = \"deux mots\"\n",
        "print(abc,\" n'est pas pareil que\",\"abc\")\n"
      ],
      "execution_count": null,
      "outputs": [
        {
          "output_type": "stream",
          "text": [
            "deux mots  n'est pas pareil que abc\n"
          ],
          "name": "stdout"
        }
      ]
    },
    {
      "cell_type": "markdown",
      "metadata": {
        "id": "g2hPXQeqm0fR"
      },
      "source": [
        "La chaîne de caractères vide s’écrit \"\" ou ''\n",
        "## Manipulation de chaînes\n",
        "Une chaîne de caractères est considérée comme une suite de caractères. Cette suite ou liste de caractères peut-être vue comme un tableau de caractères dont le premier élément se trouve à l'emplacement d'indice 0.\n",
        "\n",
        "Ainsi la chaîne \"Blabla bli bloubloublou.\" est représentée par le tableau de caractères suivant :\n",
        "<img src=\"stringArray.png\" alt=\"stringArray\" />\n",
        "Le caractère \"B\" est à l'indice 0, le \".\" à l'indice 23 et la longueur de la chaîne qui correspond à la taille du tableau est de 24.\n",
        "\n",
        "\n"
      ]
    },
    {
      "cell_type": "code",
      "metadata": {
        "id": "HrZJhRaTm0fU",
        "colab": {
          "base_uri": "https://localhost:8080/",
          "height": 36
        },
        "outputId": "1a6dc3a3-cbf2-430c-c4dc-c62c2486ffc0"
      },
      "source": [
        "# Des commandes de base (à connaitre sans aucune hésitations)\n",
        "montexte = \"Blabla bli bloubloublou.\"\n",
        "len(montexte)"
      ],
      "execution_count": null,
      "outputs": [
        {
          "output_type": "execute_result",
          "data": {
            "text/plain": [
              "24"
            ]
          },
          "metadata": {
            "tags": []
          },
          "execution_count": 19
        }
      ]
    },
    {
      "cell_type": "code",
      "metadata": {
        "id": "IHKbvHkim0fd",
        "colab": {
          "base_uri": "https://localhost:8080/",
          "height": 36
        },
        "outputId": "a519e765-c9bd-448e-c2f8-ad470b227f1a"
      },
      "source": [
        "# le premier caractère est d'indice 0\n",
        "montexte[1:5]"
      ],
      "execution_count": null,
      "outputs": [
        {
          "output_type": "execute_result",
          "data": {
            "text/plain": [
              "'labl'"
            ]
          },
          "metadata": {
            "tags": []
          },
          "execution_count": 24
        }
      ]
    },
    {
      "cell_type": "code",
      "metadata": {
        "id": "N7wZRM8Mm0fn",
        "colab": {
          "base_uri": "https://localhost:8080/",
          "height": 36
        },
        "outputId": "f9eae95e-3cb0-4338-93c7-33a5c375805e"
      },
      "source": [
        "# et le dernier à l'indice 23 (et pas 24)\n",
        "montexte[23]"
      ],
      "execution_count": null,
      "outputs": [
        {
          "output_type": "execute_result",
          "data": {
            "text/plain": [
              "'.'"
            ]
          },
          "metadata": {
            "tags": []
          },
          "execution_count": 25
        }
      ]
    },
    {
      "cell_type": "code",
      "metadata": {
        "id": "6o9jkDDtm0fv",
        "colab": {
          "base_uri": "https://localhost:8080/",
          "height": 54
        },
        "outputId": "fd9b4e14-7d16-4a0d-86d7-7b671e82099d"
      },
      "source": [
        "# un extrait du premier au 10eme caractère \n",
        "print(montexte[0:10])\n",
        "#(notez bien que i est le 10ème, mais c'est le caractère d'indice 9)\n",
        "print(montexte[9])"
      ],
      "execution_count": null,
      "outputs": [
        {
          "output_type": "stream",
          "text": [
            "Blabla bli\n",
            "i\n"
          ],
          "name": "stdout"
        }
      ]
    },
    {
      "cell_type": "code",
      "metadata": {
        "id": "o-5nDE8Qm0f8"
      },
      "source": [
        "# savoir si un caractère est dans une chaine :\n",
        "\"a\" in montexte"
      ],
      "execution_count": null,
      "outputs": []
    },
    {
      "cell_type": "code",
      "metadata": {
        "id": "hHjODzbPm0gF",
        "colab": {
          "base_uri": "https://localhost:8080/",
          "height": 36
        },
        "outputId": "d1a5784f-6497-4c93-e0aa-c91f1abc9262"
      },
      "source": [
        "# ou une sous chaine :\n",
        "print(\"bla\" in montexte)"
      ],
      "execution_count": null,
      "outputs": [
        {
          "output_type": "stream",
          "text": [
            "True\n"
          ],
          "name": "stdout"
        }
      ]
    },
    {
      "cell_type": "code",
      "metadata": {
        "id": "t0u4Kz3jm0gP",
        "colab": {
          "base_uri": "https://localhost:8080/",
          "height": 36
        },
        "outputId": "7a9f2a74-e99c-4617-bc1b-94d57eeae50a"
      },
      "source": [
        "# ou se trouve i dans mon texte ?\n",
        "montexte.index(\"bla\")\n",
        "# renvoi la première position trouvée"
      ],
      "execution_count": null,
      "outputs": [
        {
          "output_type": "execute_result",
          "data": {
            "text/plain": [
              "3"
            ]
          },
          "metadata": {
            "tags": []
          },
          "execution_count": 29
        }
      ]
    },
    {
      "cell_type": "code",
      "metadata": {
        "id": "ATHVTu4Um0gW",
        "colab": {
          "base_uri": "https://localhost:8080/",
          "height": 194
        },
        "outputId": "446e970b-8f7a-4b72-f330-03e419c63c2c"
      },
      "source": [
        "# et s'il n'y est pas ?\n",
        "montexte.index(\"z\")"
      ],
      "execution_count": null,
      "outputs": [
        {
          "output_type": "error",
          "ename": "ValueError",
          "evalue": "ignored",
          "traceback": [
            "\u001b[0;31m---------------------------------------------------------------------------\u001b[0m",
            "\u001b[0;31mValueError\u001b[0m                                Traceback (most recent call last)",
            "\u001b[0;32m<ipython-input-28-c8921f077930>\u001b[0m in \u001b[0;36m<module>\u001b[0;34m()\u001b[0m\n\u001b[0;32m----> 1\u001b[0;31m \u001b[0mmontexte\u001b[0m\u001b[0;34m.\u001b[0m\u001b[0mindex\u001b[0m\u001b[0;34m(\u001b[0m\u001b[0;34m\"z\"\u001b[0m\u001b[0;34m)\u001b[0m\u001b[0;34m\u001b[0m\u001b[0;34m\u001b[0m\u001b[0m\n\u001b[0m",
            "\u001b[0;31mValueError\u001b[0m: substring not found"
          ]
        }
      ]
    },
    {
      "cell_type": "code",
      "metadata": {
        "id": "HBdHNs44m0gf",
        "colab": {
          "base_uri": "https://localhost:8080/",
          "height": 54
        },
        "outputId": "d5ccf22d-7c1f-40b1-bd8a-0760b3b57f4a"
      },
      "source": [
        "# mais on peut utiliser count :\n",
        "print(\"dans le texte il y a \",montexte.count(\"a\"),\"a\")\n",
        "print(\"dans le texte il y a \",montexte.count(\"z\"),\"z\")\n"
      ],
      "execution_count": null,
      "outputs": [
        {
          "output_type": "stream",
          "text": [
            "dans le texte il y a  2 a\n",
            "dans le texte il y a  0 z\n"
          ],
          "name": "stdout"
        }
      ]
    },
    {
      "cell_type": "markdown",
      "metadata": {
        "id": "Mn3t5Qcjm0gw"
      },
      "source": [
        "Ajouter du texte à du texte ou modifier par ajout\n",
        "\n",
        "Remarque : Lorsque l'on accole plusieurs textes ensemble on parle de concaténation."
      ]
    },
    {
      "cell_type": "code",
      "metadata": {
        "id": "TOVqhBJlm0gx",
        "colab": {
          "base_uri": "https://localhost:8080/",
          "height": 36
        },
        "outputId": "06283b9c-792f-4848-fd92-5514f538ce9f"
      },
      "source": [
        "s=\"Bonjour Mr \"\n",
        "name='Dupond'\n",
        "print(s+name)"
      ],
      "execution_count": null,
      "outputs": [
        {
          "output_type": "stream",
          "text": [
            "Bonjour Mr Dupond\n"
          ],
          "name": "stdout"
        }
      ]
    },
    {
      "cell_type": "code",
      "metadata": {
        "id": "VMYuC8EXm0g9",
        "colab": {
          "base_uri": "https://localhost:8080/",
          "height": 36
        },
        "outputId": "a876a5ae-bc62-403e-c0db-65cd913c6ca6"
      },
      "source": [
        "line=s+name\n",
        "print(\"line: \",line)"
      ],
      "execution_count": null,
      "outputs": [
        {
          "output_type": "stream",
          "text": [
            "line:  Bonjour Mr Dupond\n"
          ],
          "name": "stdout"
        }
      ]
    },
    {
      "cell_type": "code",
      "metadata": {
        "id": "zEF_Qa2im0hE",
        "colab": {
          "base_uri": "https://localhost:8080/",
          "height": 36
        },
        "outputId": "a46c94d3-143a-4b2c-ba72-753838f81b1c"
      },
      "source": [
        "line+=' !'\n",
        "print(line)"
      ],
      "execution_count": null,
      "outputs": [
        {
          "output_type": "stream",
          "text": [
            "Bonjour Mr Dupond !\n"
          ],
          "name": "stdout"
        }
      ]
    },
    {
      "cell_type": "markdown",
      "metadata": {
        "id": "pHXicy0am0hL"
      },
      "source": [
        "# et si on mélangeait du texte et des nombres ?"
      ]
    },
    {
      "cell_type": "code",
      "metadata": {
        "id": "VL9K7LLKm0hM",
        "colab": {
          "base_uri": "https://localhost:8080/",
          "height": 231
        },
        "outputId": "a131e69b-c67a-46cf-e115-8abc94805e0a"
      },
      "source": [
        "# evidement on ne peut pas additionner une chaine et un nombre :\n",
        "a='1'\n",
        "s='12'\n",
        "print(a+s)"
      ],
      "execution_count": null,
      "outputs": [
        {
          "output_type": "error",
          "ename": "TypeError",
          "evalue": "ignored",
          "traceback": [
            "\u001b[0;31m---------------------------------------------------------------------------\u001b[0m",
            "\u001b[0;31mTypeError\u001b[0m                                 Traceback (most recent call last)",
            "\u001b[0;32m<ipython-input-34-effbff7aac69>\u001b[0m in \u001b[0;36m<module>\u001b[0;34m()\u001b[0m\n\u001b[1;32m      1\u001b[0m \u001b[0ma\u001b[0m\u001b[0;34m=\u001b[0m\u001b[0;36m1\u001b[0m\u001b[0;34m\u001b[0m\u001b[0;34m\u001b[0m\u001b[0m\n\u001b[1;32m      2\u001b[0m \u001b[0ms\u001b[0m\u001b[0;34m=\u001b[0m\u001b[0;34m'abc'\u001b[0m\u001b[0;34m\u001b[0m\u001b[0;34m\u001b[0m\u001b[0m\n\u001b[0;32m----> 3\u001b[0;31m \u001b[0mprint\u001b[0m\u001b[0;34m(\u001b[0m\u001b[0ma\u001b[0m\u001b[0;34m+\u001b[0m\u001b[0ms\u001b[0m\u001b[0;34m)\u001b[0m\u001b[0;34m\u001b[0m\u001b[0;34m\u001b[0m\u001b[0m\n\u001b[0m",
            "\u001b[0;31mTypeError\u001b[0m: unsupported operand type(s) for +: 'int' and 'str'"
          ]
        }
      ]
    },
    {
      "cell_type": "markdown",
      "metadata": {
        "id": "siAS86h0m0hX"
      },
      "source": [
        "Traduisez le code erreur ci-dessus. Vous le rencontrerez à coup sur, il est important de comprendre ce qu'il signifie !"
      ]
    },
    {
      "cell_type": "code",
      "metadata": {
        "id": "-m7QnEp-m0hZ",
        "colab": {
          "base_uri": "https://localhost:8080/",
          "height": 36
        },
        "outputId": "dcb6f4f5-ed34-46dd-a70d-84da49977bb3"
      },
      "source": [
        "# en revanche on peut :\n",
        "a=\"1\"\n",
        "s='n°'\n",
        "print(s+a)"
      ],
      "execution_count": null,
      "outputs": [
        {
          "output_type": "stream",
          "text": [
            "n°1\n"
          ],
          "name": "stdout"
        }
      ]
    },
    {
      "cell_type": "markdown",
      "metadata": {
        "id": "tNfZfBHbm0he"
      },
      "source": [
        "Ici nous avons faire une concaténation de la chaine s avec la chaine a\n",
        "a=\"1\" avec le caractère 1 à la variable a.\n",
        "bien distinguer 1 (l'entier) 1.0 (décimal) et \"1\" chaine."
      ]
    },
    {
      "cell_type": "code",
      "metadata": {
        "id": "_qL4Rvegm0hi",
        "colab": {
          "base_uri": "https://localhost:8080/",
          "height": 36
        },
        "outputId": "87de9140-8bcd-41cc-b59d-bc20309c1873"
      },
      "source": [
        "# bien sur (quoique... on en reparlera...)\n",
        "print(1==1.0)"
      ],
      "execution_count": null,
      "outputs": [
        {
          "output_type": "stream",
          "text": [
            "True\n"
          ],
          "name": "stdout"
        }
      ]
    },
    {
      "cell_type": "code",
      "metadata": {
        "id": "tdUd05Gsm0hq",
        "colab": {
          "base_uri": "https://localhost:8080/",
          "height": 36
        },
        "outputId": "19d96b40-cbbb-4d48-8d3d-7e3d6d94729d"
      },
      "source": [
        "# mais :\n",
        "\"1\"==1"
      ],
      "execution_count": null,
      "outputs": [
        {
          "output_type": "execute_result",
          "data": {
            "text/plain": [
              "False"
            ]
          },
          "metadata": {
            "tags": []
          },
          "execution_count": 37
        }
      ]
    },
    {
      "cell_type": "code",
      "metadata": {
        "id": "zwzB0nTFm0hu",
        "colab": {
          "base_uri": "https://localhost:8080/",
          "height": 36
        },
        "outputId": "1cbf3c6d-6bb6-495a-f374-b50cc8930fb9"
      },
      "source": [
        "#par contre :\n",
        "\"12\"==str(12)"
      ],
      "execution_count": null,
      "outputs": [
        {
          "output_type": "execute_result",
          "data": {
            "text/plain": [
              "True"
            ]
          },
          "metadata": {
            "tags": []
          },
          "execution_count": 39
        }
      ]
    },
    {
      "cell_type": "code",
      "metadata": {
        "id": "l-DfyCMrm0h0",
        "colab": {
          "base_uri": "https://localhost:8080/",
          "height": 194
        },
        "outputId": "e255bcc2-619f-4118-bccf-123acd19cb84"
      },
      "source": [
        "# ou encore :\n",
        "int(\"aa\")==1"
      ],
      "execution_count": null,
      "outputs": [
        {
          "output_type": "error",
          "ename": "ValueError",
          "evalue": "ignored",
          "traceback": [
            "\u001b[0;31m---------------------------------------------------------------------------\u001b[0m",
            "\u001b[0;31mValueError\u001b[0m                                Traceback (most recent call last)",
            "\u001b[0;32m<ipython-input-41-837881a5984b>\u001b[0m in \u001b[0;36m<module>\u001b[0;34m()\u001b[0m\n\u001b[0;32m----> 1\u001b[0;31m \u001b[0mint\u001b[0m\u001b[0;34m(\u001b[0m\u001b[0;34m\"aa\"\u001b[0m\u001b[0;34m)\u001b[0m\u001b[0;34m==\u001b[0m\u001b[0;36m1\u001b[0m\u001b[0;34m\u001b[0m\u001b[0;34m\u001b[0m\u001b[0m\n\u001b[0m",
            "\u001b[0;31mValueError\u001b[0m: invalid literal for int() with base 10: 'aa'"
          ]
        }
      ]
    },
    {
      "cell_type": "code",
      "metadata": {
        "id": "GK0QeUrwm0h4",
        "colab": {
          "base_uri": "https://localhost:8080/",
          "height": 36
        },
        "outputId": "94f471c1-fb08-4d3a-be75-a6943340201c"
      },
      "source": [
        "#et bien sur\n",
        "int(\"1\")==1.0"
      ],
      "execution_count": null,
      "outputs": [
        {
          "output_type": "execute_result",
          "data": {
            "text/plain": [
              "True"
            ]
          },
          "metadata": {
            "tags": []
          },
          "execution_count": 42
        }
      ]
    },
    {
      "cell_type": "code",
      "metadata": {
        "id": "hCocdzDKK1Qu",
        "colab": {
          "base_uri": "https://localhost:8080/",
          "height": 194
        },
        "outputId": "7d488fcb-790f-455e-a4d1-3fbebe13febe"
      },
      "source": [
        "int(\"1.0\")"
      ],
      "execution_count": null,
      "outputs": [
        {
          "output_type": "error",
          "ename": "ValueError",
          "evalue": "ignored",
          "traceback": [
            "\u001b[0;31m---------------------------------------------------------------------------\u001b[0m",
            "\u001b[0;31mValueError\u001b[0m                                Traceback (most recent call last)",
            "\u001b[0;32m<ipython-input-43-305a000f9be2>\u001b[0m in \u001b[0;36m<module>\u001b[0;34m()\u001b[0m\n\u001b[0;32m----> 1\u001b[0;31m \u001b[0mint\u001b[0m\u001b[0;34m(\u001b[0m\u001b[0;34m\"1.0\"\u001b[0m\u001b[0;34m)\u001b[0m\u001b[0;34m\u001b[0m\u001b[0;34m\u001b[0m\u001b[0m\n\u001b[0m",
            "\u001b[0;31mValueError\u001b[0m: invalid literal for int() with base 10: '1.0'"
          ]
        }
      ]
    },
    {
      "cell_type": "code",
      "metadata": {
        "id": "JSGgSIZVm0h-"
      },
      "source": [
        "# en réalité, quand on fait a==b avec a et b de type différent, python essaye de les comparer\n",
        "# en convertissant certains types. Notamment les décimaux sont convertit si possible en entiers.\n",
        "1==1.0 # ici 1.0 est converti en entier et vaut donc 1\n",
        "# les chaines ne sont converties que si on le dit explicitement :\n",
        "int('1')==1.0 #'1' est conerti en entier, mais il vaut, 1, pas 1.0\n"
      ],
      "execution_count": null,
      "outputs": []
    },
    {
      "cell_type": "code",
      "metadata": {
        "id": "mOv3senUm0iD",
        "colab": {
          "base_uri": "https://localhost:8080/",
          "height": 36
        },
        "outputId": "c3efeb5d-84e8-4408-d17b-c99a0aed441c"
      },
      "source": [
        "# mais attention !\n",
        "str(1.0)==\"1\""
      ],
      "execution_count": null,
      "outputs": [
        {
          "output_type": "execute_result",
          "data": {
            "text/plain": [
              "False"
            ]
          },
          "metadata": {
            "tags": []
          },
          "execution_count": 44
        }
      ]
    },
    {
      "cell_type": "code",
      "metadata": {
        "id": "mciN8F0LLPlz",
        "colab": {
          "base_uri": "https://localhost:8080/",
          "height": 36
        },
        "outputId": "ff88f9bc-9ae8-4505-9672-f3fbaebf4303"
      },
      "source": [
        "str(1.0)"
      ],
      "execution_count": null,
      "outputs": [
        {
          "output_type": "execute_result",
          "data": {
            "text/plain": [
              "'1.0'"
            ]
          },
          "metadata": {
            "tags": []
          },
          "execution_count": 45
        }
      ]
    },
    {
      "cell_type": "code",
      "metadata": {
        "id": "u7IcHa0tm0iH",
        "colab": {
          "base_uri": "https://localhost:8080/",
          "height": 36
        },
        "outputId": "25f1c97c-5116-44f9-a12a-a764ccec9d3f"
      },
      "source": [
        "# pourtant :\n",
        "1.0==1"
      ],
      "execution_count": null,
      "outputs": [
        {
          "output_type": "execute_result",
          "data": {
            "text/plain": [
              "True"
            ]
          },
          "metadata": {
            "tags": []
          },
          "execution_count": 46
        }
      ]
    },
    {
      "cell_type": "code",
      "metadata": {
        "id": "9SgJFyYdm0iL"
      },
      "source": [
        "# et \n",
        "str(1)==\"1\""
      ],
      "execution_count": null,
      "outputs": []
    },
    {
      "cell_type": "markdown",
      "metadata": {
        "id": "vsdn81-xm0iQ"
      },
      "source": [
        "résumons :\n",
        "1.0 est bien égal à 1 et str(1) est bien égal à '1'\n",
        "mais str(1.0) n'est pas égal à '1'\n",
        "En réalité, str(1.0) vaut '1.0' ce n'est donc pas pareil que \"1\"\n",
        "Il faut être toujours précautionneux dans les égalités avec des décimaux, et les conversion en chaines. \n",
        "\n",
        "Nous aurons l'occasion d'y revenir et de comprendre pourquoi dans un autre chapitre.\n",
        "\n",
        "En informatique plus qu'ailleurs, il est important de bien comprendre que 1 et 1.0 ce n'est pas tout à fait identique. Nous verrons qu'il n'existe pas de nombre réel dans un ordinateur, alors que les entier existent (mais pas tous.. car il ne peux pas en exister une infinité...).\n",
        "Il existe des décimaux, qu'on nomme les flottants, ou en anglais flooating points, c'est à dire nombre à virgule flottante.\n",
        "\n",
        "Il est important de ne pas parler de réels, mais de flottants, la différence n'est pas du tout anodine."
      ]
    },
    {
      "cell_type": "code",
      "metadata": {
        "id": "bSJY9SXPm0iR"
      },
      "source": [
        "3.15\n"
      ],
      "execution_count": null,
      "outputs": []
    },
    {
      "cell_type": "code",
      "metadata": {
        "id": "Bk-t0fbjm0iW"
      },
      "source": [
        ""
      ],
      "execution_count": null,
      "outputs": []
    }
  ]
}