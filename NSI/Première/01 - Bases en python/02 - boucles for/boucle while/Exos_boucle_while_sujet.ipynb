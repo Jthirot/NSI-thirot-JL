{
  "nbformat": 4,
  "nbformat_minor": 0,
  "metadata": {
    "colab": {
      "name": "Exos_boucle_while_sujet.ipynb",
      "provenance": [],
      "collapsed_sections": []
    },
    "kernelspec": {
      "name": "python3",
      "display_name": "Python 3"
    },
    "language_info": {
      "name": "python"
    }
  },
  "cells": [
    {
      "cell_type": "markdown",
      "metadata": {
        "id": "Duy-ReWzMvon"
      },
      "source": [
        "<center><font color=\"orange\" size=\"4\"><b> ⚠️⚠️⚠️   &nbsp; &nbsp;! Pensez à faire une copie <u>dans votre Drive</u> avant de commencer !  &nbsp; &nbsp;⚠️⚠️⚠️</b></font></center>"
      ]
    },
    {
      "cell_type": "markdown",
      "metadata": {
        "id": "v182kYol5_G8"
      },
      "source": [
        "# Exercices sur les boucles `while` "
      ]
    },
    {
      "cell_type": "markdown",
      "metadata": {
        "id": "CdWg1yzJK12Z"
      },
      "source": [
        "Dans ces exercices, vous introduirez vous-même toutes les variables dont vous avez besoin, en leur donnant un nom explicite (clair à comprendre)"
      ]
    },
    {
      "cell_type": "markdown",
      "metadata": {
        "id": "XjhOvuQZ_VYm"
      },
      "source": [
        "## Exercice 1 : \n",
        "Alice a déposé ses économies à sa banque sur un compte rémunéré.  \n",
        "Le but de cet exercice est d'écrire un programme qui demande de saisir le capital initial déposé, le taux $t$ en %, puis calcule et \n",
        "affiche le nombre d'années au bout duquel son capital aura doublé.   \n",
        "Indication  :  chaque année le capital est multiplié par $(1+\\dfrac{t}{100})$\n",
        "\n",
        "\n"
      ]
    },
    {
      "cell_type": "code",
      "metadata": {
        "id": "ZMU4NX-DBgcf",
        "colab": {
          "base_uri": "https://localhost:8080/"
        },
        "outputId": "988fdc0a-dd68-4616-bfba-935f3407e38f"
      },
      "source": [
        "# Votre code ci-dessous\n",
        "capital = float( input(\"capital de départ : \"))\n",
        "taux = float( input(\"taux : \"))\n",
        "objectif = capital * 2\n",
        "nb_annee = 0\n",
        "while capital < objectif :\n",
        "    capital *= (1 + taux/100)\n",
        "    nb_annee += 1\n",
        "print(\"le capital a doublé au bout de \",nb_annee)"
      ],
      "execution_count": null,
      "outputs": [
        {
          "output_type": "stream",
          "name": "stdout",
          "text": [
            "capital de départ : 1000\n",
            "taux : 7\n",
            "le capital a doublé au bout de  11\n"
          ]
        }
      ]
    },
    {
      "cell_type": "markdown",
      "metadata": {
        "id": "6yHBeh_eC32h"
      },
      "source": [
        "## Exercice 2 :\n",
        "Vous avez déjà étudié le problème suivant dans les feuilles Wims précédantes.  \n",
        "Bob a trouvé un jeu de hasard en ligne très simple : Pour jouer une partie, il doit cliquer 3 fois de suite sur la touche \"lancer le dé\". A chaque fois cela affiche un entier entre 1 et 6.  \n",
        "S'il obtient 3 nombres identiques, il gagne 3 euros.  \n",
        "S'il obtient 2 nombres identiques, il gagne 2 euros.  \n",
        "S'il obtient trois nombres tous différents, il perd 1 euro.  \n",
        "Dans le programme à compléter ci-dessous les trois nombres entiers a, b et c, sont choisis de façon aléatoire par l'odinateur.  \n",
        "Compléter le programme pour qu'il détermine et affiche le nombre d'entiers identiques.  \n",
        "On appelera n_identiques la variable donnant ce nombre. Par exemple :  \n",
        "Pour a = 1, b = 3, c = 2 il doit trouver n_identiques = 0  \n",
        "Pour a = 1, b = 3, c = 1 il doit trouver n_identiques = 2  \n",
        "Pour a = 1, b = 1, c = 1 il doit trouver n_identiques = 3  "
      ]
    },
    {
      "cell_type": "markdown",
      "metadata": {
        "id": "YfFrq8CEFUXn"
      },
      "source": [
        "1. Compléter ci-dessous :"
      ]
    },
    {
      "cell_type": "code",
      "metadata": {
        "id": "uwatLystEBo-",
        "colab": {
          "base_uri": "https://localhost:8080/"
        },
        "outputId": "24bc948a-89d8-4ed9-fd28-df824f8301af"
      },
      "source": [
        "from random import randint # Pour pouvoir utiliser randint (1,6) qui donne\n",
        "#  un nombre aléatoire entre 1 et 6 compris\n",
        "a = randint(1,6) # simule un premier lancé de dé\n",
        "b = randint(1,6) # simule un premier lancé de dé\n",
        "c = randint(1,6) # simule un premier lancé de dé\n",
        "\n",
        "n_identiques = 0\n",
        "if a == b:\n",
        "    n_identiques = 2\n",
        "    if a == c :\n",
        "        n_identiques = 3\n",
        "elif a == c or b == c:\n",
        "    n_identiques = 2\n",
        "else :\n",
        "    n_identiques = 0\n",
        "print(a,b,c)\n",
        "print(n_identiques)"
      ],
      "execution_count": null,
      "outputs": [
        {
          "output_type": "stream",
          "name": "stdout",
          "text": [
            "2 3 4\n",
            "0\n"
          ]
        }
      ]
    },
    {
      "cell_type": "markdown",
      "metadata": {
        "id": "17-XzPIXFus5"
      },
      "source": [
        "2. Nous considérons qu'une perte est un gain négatif. Une perte de 1 euro correspond donc à un gain de -1 euro.  \n",
        "Son gain est la somme de tous les gains obtenus à toutes les parties qu'il a jouées.  \n",
        "Vous devez modifier ce programme de la façon suivante : Bob rejoue jusqu'à ce qu'il perde (il obtient un gain négatif).  \n",
        "Votre programme doit afficher à chaque partie le nouveau gain (total) et le nombre de parties jouées."
      ]
    },
    {
      "cell_type": "code",
      "metadata": {
        "id": "q3Ux7teBG7Wy",
        "colab": {
          "base_uri": "https://localhost:8080/"
        },
        "outputId": "5dd6b02c-5543-4440-fe92-1978565609da"
      },
      "source": [
        "# Copiez et modifiez votre programme ci-dessous :\n",
        "from random import randint # Pour pouvoir utiliser randint (1,6) qui donne\n",
        "#  un nombre aléatoire entre 1 et 6 compris\n",
        "nb_parties = 0\n",
        "gain = 0\n",
        "gaintotal = 0\n",
        "continuer = True\n",
        "while continuer :\n",
        "    a = randint(1,6) # simule un premier lancé de dé\n",
        "    b = randint(1,6) # simule un premier lancé de dé\n",
        "    c = randint(1,6) # simule un premier lancé de dé\n",
        "\n",
        "    n_identiques = 0\n",
        "    if a == b:\n",
        "        n_identiques = 2\n",
        "        if a == c :\n",
        "            n_identiques = 3\n",
        "    elif a == c or b == c:\n",
        "        n_identiques = 2\n",
        "    else :\n",
        "        n_identiques = 0\n",
        "\n",
        "    if n_identiques == 3 : \n",
        "        gain = 3\n",
        "    elif n_identiques == 2 : \n",
        "        gain = 2\n",
        "    else : \n",
        "        gain = -1\n",
        "        continuer = False\n",
        "    nb_parties += 1\n",
        "    gaintotal += gain\n",
        "print(gaintotal,\"nb de partie : \",nb_parties)"
      ],
      "execution_count": null,
      "outputs": [
        {
          "output_type": "stream",
          "name": "stdout",
          "text": [
            "5 nb de partie :  4\n"
          ]
        }
      ]
    },
    {
      "cell_type": "markdown",
      "metadata": {
        "id": "3EZe39DRM5kT"
      },
      "source": [
        "<center>\n",
        "\n",
        "---\n",
        "\n",
        "**Auteur** Mireille Coilhac\n",
        "\n",
        "Publié sous licence CC BY-NC-SA\n",
        "\n",
        "\n",
        "---\n",
        "<a rel=\"license\" href=\"http://creativecommons.org/licenses/by-nc-sa/4.0/\"><img alt=\"Creative Commons License\" style=\"border-width:0\" width=\"200\" src=\"https://s2.qwant.com/thumbr/700x0/f/9/436dcce5e02185c0b2e1b0e7a969aa81d7b0438d0a7f2eaee89abb9661b70b/cc-by-nc-sa.svg_.png?u=http%3A%2F%2Fopensiddur.org%2Fwp-content%2Fuploads%2F2011%2F03%2Fcc-by-nc-sa.svg_.png&q=0&b=1&p=0&a=1\" /></a><br />This work is licensed under a <a rel=\"license\" href=\"http://creativecommons.org/licenses/by-nc-sa/4.0/\">Creative Commons Attribution-NonCommercial-ShareAlike 4.0 International License</a>. "
      ]
    }
  ]
}